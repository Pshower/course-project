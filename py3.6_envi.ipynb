{
 "cells": [
  {
   "cell_type": "code",
   "execution_count": 1,
   "id": "a348f884",
   "metadata": {},
   "outputs": [
    {
     "name": "stdout",
     "output_type": "stream",
     "text": [
      "Collecting numpy==1.14.6\n",
      "  Downloading numpy-1.14.6-cp36-none-win_amd64.whl (13.4 MB)\n",
      "Installing collected packages: numpy\n",
      "Successfully installed numpy-1.14.6\n"
     ]
    }
   ],
   "source": [
    "!pip install numpy==1.14.6"
   ]
  },
  {
   "cell_type": "code",
   "execution_count": 2,
   "id": "ee57899c",
   "metadata": {
    "scrolled": true
   },
   "outputs": [
    {
     "name": "stdout",
     "output_type": "stream",
     "text": [
      "Collecting pandas==0.23.4\n",
      "  Downloading pandas-0.23.4-cp36-cp36m-win_amd64.whl (7.7 MB)\n",
      "Collecting pytz>=2011k\n",
      "  Downloading pytz-2024.1-py2.py3-none-any.whl (505 kB)\n",
      "Requirement already satisfied: python-dateutil>=2.5.0 in d:\\programfiles\\anaconda3\\envs\\test_py36\\lib\\site-packages (from pandas==0.23.4) (2.8.2)\n",
      "Requirement already satisfied: numpy>=1.9.0 in d:\\programfiles\\anaconda3\\envs\\test_py36\\lib\\site-packages (from pandas==0.23.4) (1.14.6)\n",
      "Requirement already satisfied: six>=1.5 in d:\\programfiles\\anaconda3\\envs\\test_py36\\lib\\site-packages (from python-dateutil>=2.5.0->pandas==0.23.4) (1.16.0)\n",
      "Installing collected packages: pytz, pandas\n",
      "Successfully installed pandas-0.23.4 pytz-2024.1\n"
     ]
    }
   ],
   "source": [
    "!pip install pandas==0.23.4"
   ]
  },
  {
   "cell_type": "code",
   "execution_count": 16,
   "id": "2e43e97e",
   "metadata": {},
   "outputs": [
    {
     "name": "stdout",
     "output_type": "stream",
     "text": [
      "Collecting tqdm\n",
      "  Downloading tqdm-4.64.1-py2.py3-none-any.whl (78 kB)\n",
      "Collecting importlib-resources\n",
      "  Downloading importlib_resources-5.4.0-py3-none-any.whl (28 kB)\n",
      "Requirement already satisfied: colorama in d:\\programfiles\\anaconda3\\envs\\test_py36\\lib\\site-packages (from tqdm) (0.4.4)\n",
      "Requirement already satisfied: zipp>=3.1.0 in d:\\programfiles\\anaconda3\\envs\\test_py36\\lib\\site-packages (from importlib-resources->tqdm) (3.6.0)\n",
      "Installing collected packages: importlib-resources, tqdm\n",
      "Successfully installed importlib-resources-5.4.0 tqdm-4.64.1\n"
     ]
    }
   ],
   "source": [
    "!pip install tqdm"
   ]
  },
  {
   "cell_type": "code",
   "execution_count": 15,
   "id": "82c392f7",
   "metadata": {
    "scrolled": true
   },
   "outputs": [
    {
     "ename": "SyntaxError",
     "evalue": "invalid syntax (<ipython-input-15-80498173bf2e>, line 1)",
     "output_type": "error",
     "traceback": [
      "\u001b[1;36m  File \u001b[1;32m\"<ipython-input-15-80498173bf2e>\"\u001b[1;36m, line \u001b[1;32m1\u001b[0m\n\u001b[1;33m    import TA-lib\u001b[0m\n\u001b[1;37m             ^\u001b[0m\n\u001b[1;31mSyntaxError\u001b[0m\u001b[1;31m:\u001b[0m invalid syntax\n"
     ]
    }
   ],
   "source": [
    "import TA-lib "
   ]
  },
  {
   "cell_type": "code",
   "execution_count": 9,
   "id": "ec92ad59",
   "metadata": {},
   "outputs": [
    {
     "name": "stdout",
     "output_type": "stream",
     "text": [
      "Collecting TA-Lib\n",
      "  Downloading TA-Lib-0.4.30.tar.gz (368 kB)\n",
      "  Installing build dependencies: started\n",
      "  Installing build dependencies: finished with status 'done'\n",
      "  Getting requirements to build wheel: started\n",
      "  Getting requirements to build wheel: finished with status 'done'\n",
      "  Installing backend dependencies: started\n",
      "  Installing backend dependencies: finished with status 'done'\n",
      "    Preparing wheel metadata: started\n",
      "    Preparing wheel metadata: finished with status 'done'\n"
     ]
    },
    {
     "name": "stderr",
     "output_type": "stream",
     "text": [
      "  ERROR: Command errored out with exit status 1:\n",
      "   command: 'D:\\ProgramFiles\\Anaconda3\\envs\\test_py36\\python.exe' 'D:\\ProgramFiles\\Anaconda3\\envs\\test_py36\\lib\\site-packages\\pip\\_vendor\\pep517\\in_process\\_in_process.py' build_wheel 'C:\\Users\\Shower\\AppData\\Local\\Temp\\tmplbj43jo5'\n",
      "       cwd: C:\\Users\\Shower\\AppData\\Local\\Temp\\pip-install-x3rv2dqv\\ta-lib_8c5ed0d97fa34cbb801ddccf9011284e\n",
      "  Complete output (21 lines):\n",
      "  running bdist_wheel\n",
      "  running build\n",
      "  running build_py\n",
      "  creating build\n"
     ]
    },
    {
     "name": "stdout",
     "output_type": "stream",
     "text": [
      "Requirement already satisfied: numpy in d:\\programfiles\\anaconda3\\envs\\test_py36\\lib\\site-packages (from TA-Lib) (1.19.5)\n",
      "Building wheels for collected packages: TA-Lib\n",
      "  Building wheel for TA-Lib (PEP 517): started\n",
      "  Building wheel for TA-Lib (PEP 517): finished with status 'error'\n",
      "Failed to build TA-Lib\n"
     ]
    },
    {
     "name": "stderr",
     "output_type": "stream",
     "text": [
      "  creating build\\lib.win-amd64-3.6\n",
      "  creating build\\lib.win-amd64-3.6\\talib\n",
      "  copying talib\\abstract.py -> build\\lib.win-amd64-3.6\\talib\n",
      "  copying talib\\deprecated.py -> build\\lib.win-amd64-3.6\\talib\n",
      "  copying talib\\stream.py -> build\\lib.win-amd64-3.6\\talib\n",
      "  copying talib\\__init__.py -> build\\lib.win-amd64-3.6\\talib\n",
      "  running build_ext\n",
      "  building 'talib._ta_lib' extension\n",
      "  creating build\\temp.win-amd64-3.6\n",
      "  creating build\\temp.win-amd64-3.6\\Release\n",
      "  creating build\\temp.win-amd64-3.6\\Release\\talib\n",
      "  C:\\Program Files\\Microsoft Visual Studio\\2022\\Community\\VC\\Tools\\MSVC\\14.37.32822\\bin\\HostX86\\x64\\cl.exe /c /nologo /Ox /W3 /GL /DNDEBUG /MD -Ic:\\ta-lib\\c\\include -IC:\\Users\\Shower\\AppData\\Local\\Temp\\pip-build-env-3a07fosf\\normal\\Lib\\site-packages\\numpy\\core\\include -ID:\\ProgramFiles\\Anaconda3\\envs\\test_py36\\include -ID:\\ProgramFiles\\Anaconda3\\envs\\test_py36\\include \"-IC:\\Program Files\\Microsoft Visual Studio\\2022\\Community\\VC\\Tools\\MSVC\\14.37.32822\\include\" \"-IC:\\Program Files\\Microsoft Visual Studio\\2022\\Community\\VC\\Tools\\MSVC\\14.37.32822\\ATLMFC\\include\" \"-IC:\\Program Files\\Microsoft Visual Studio\\2022\\Community\\VC\\Auxiliary\\VS\\include\" \"-IC:\\Program Files (x86)\\Windows Kits\\10\\include\\10.0.22621.0\\ucrt\" \"-IC:\\Program Files (x86)\\Windows Kits\\10\\\\include\\10.0.22621.0\\\\um\" \"-IC:\\Program Files (x86)\\Windows Kits\\10\\\\include\\10.0.22621.0\\\\shared\" \"-IC:\\Program Files (x86)\\Windows Kits\\10\\\\include\\10.0.22621.0\\\\winrt\" \"-IC:\\Program Files (x86)\\Windows Kits\\10\\\\include\\10.0.22621.0\\\\cppwinrt\" /Tctalib/_ta_lib.c /Fobuild\\temp.win-amd64-3.6\\Release\\talib/_ta_lib.obj\n",
      "  _ta_lib.c\n",
      "  talib/_ta_lib.c(1223): fatal error C1083: 无法打开包括文件: “ta_libc.h”: No such file or directory\n",
      "  setup.py:75: UserWarning: Cannot find ta-lib library, installation may fail.\n",
      "    warnings.warn('Cannot find ta-lib library, installation may fail.')\n",
      "  error: command 'C:\\\\Program Files\\\\Microsoft Visual Studio\\\\2022\\\\Community\\\\VC\\\\Tools\\\\MSVC\\\\14.37.32822\\\\bin\\\\HostX86\\\\x64\\\\cl.exe' failed with exit status 2\n",
      "  ----------------------------------------\n",
      "  ERROR: Failed building wheel for TA-Lib\n",
      "ERROR: Could not build wheels for TA-Lib which use PEP 517 and cannot be installed directly\n"
     ]
    }
   ],
   "source": [
    "!pip install TA-Lib"
   ]
  },
  {
   "cell_type": "code",
   "execution_count": 6,
   "id": "60b8c81b",
   "metadata": {},
   "outputs": [
    {
     "name": "stdout",
     "output_type": "stream",
     "text": [
      "Collecting TA-Lib==0.4.17\n",
      "  Downloading TA-Lib-0.4.17.tar.gz (717 kB)\n",
      "Requirement already satisfied: numpy in d:\\programfiles\\anaconda3\\envs\\test_py36\\lib\\site-packages (from TA-Lib==0.4.17) (1.14.6)\n",
      "Building wheels for collected packages: TA-Lib\n",
      "  Building wheel for TA-Lib (setup.py): started\n",
      "  Building wheel for TA-Lib (setup.py): finished with status 'error'\n",
      "  Running setup.py clean for TA-Lib\n",
      "Failed to build TA-Lib\n",
      "Installing collected packages: TA-Lib\n",
      "    Running setup.py install for TA-Lib: started\n",
      "    Running setup.py install for TA-Lib: finished with status 'error'\n"
     ]
    },
    {
     "name": "stderr",
     "output_type": "stream",
     "text": [
      "  ERROR: Command errored out with exit status 1:\n",
      "   command: 'D:\\ProgramFiles\\Anaconda3\\envs\\test_py36\\python.exe' -u -c 'import io, os, sys, setuptools, tokenize; sys.argv[0] = '\"'\"'C:\\\\Users\\\\Shower\\\\AppData\\\\Local\\\\Temp\\\\pip-install-z7n3um86\\\\ta-lib_a91f240b521d4277aa0b5503d92a1d4b\\\\setup.py'\"'\"'; __file__='\"'\"'C:\\\\Users\\\\Shower\\\\AppData\\\\Local\\\\Temp\\\\pip-install-z7n3um86\\\\ta-lib_a91f240b521d4277aa0b5503d92a1d4b\\\\setup.py'\"'\"';f = getattr(tokenize, '\"'\"'open'\"'\"', open)(__file__) if os.path.exists(__file__) else io.StringIO('\"'\"'from setuptools import setup; setup()'\"'\"');code = f.read().replace('\"'\"'\\r\\n'\"'\"', '\"'\"'\\n'\"'\"');f.close();exec(compile(code, __file__, '\"'\"'exec'\"'\"'))' bdist_wheel -d 'C:\\Users\\Shower\\AppData\\Local\\Temp\\pip-wheel-dvgw32u3'\n",
      "       cwd: C:\\Users\\Shower\\AppData\\Local\\Temp\\pip-install-z7n3um86\\ta-lib_a91f240b521d4277aa0b5503d92a1d4b\\\n",
      "  Complete output (26 lines):\n",
      "  C:\\Users\\Shower\\AppData\\Local\\Temp\\pip-install-z7n3um86\\ta-lib_a91f240b521d4277aa0b5503d92a1d4b\\setup.py:79: UserWarning: Cannot find ta-lib library, installation may fail.\n",
      "    warnings.warn('Cannot find ta-lib library, installation may fail.')\n",
      "  running bdist_wheel\n",
      "  running build\n",
      "  running build_py\n",
      "  creating build\n",
      "  creating build\\lib.win-amd64-3.6\n",
      "  creating build\\lib.win-amd64-3.6\\talib\n",
      "  copying talib\\abstract.py -> build\\lib.win-amd64-3.6\\talib\n",
      "  copying talib\\deprecated.py -> build\\lib.win-amd64-3.6\\talib\n",
      "  copying talib\\stream.py -> build\\lib.win-amd64-3.6\\talib\n",
      "  copying talib\\test_abstract.py -> build\\lib.win-amd64-3.6\\talib\n",
      "  copying talib\\test_data.py -> build\\lib.win-amd64-3.6\\talib\n",
      "  copying talib\\test_func.py -> build\\lib.win-amd64-3.6\\talib\n",
      "  copying talib\\test_pandas.py -> build\\lib.win-amd64-3.6\\talib\n",
      "  copying talib\\test_stream.py -> build\\lib.win-amd64-3.6\\talib\n",
      "  copying talib\\__init__.py -> build\\lib.win-amd64-3.6\\talib\n",
      "  running build_ext\n",
      "  building 'talib._ta_lib' extension\n",
      "  creating build\\temp.win-amd64-3.6\n",
      "  creating build\\temp.win-amd64-3.6\\Release\n",
      "  creating build\\temp.win-amd64-3.6\\Release\\talib\n",
      "  C:\\Program Files\\Microsoft Visual Studio\\2022\\Community\\VC\\Tools\\MSVC\\14.37.32822\\bin\\HostX86\\x64\\cl.exe /c /nologo /Ox /W3 /GL /DNDEBUG /MD -ID:\\ProgramFiles\\Anaconda3\\envs\\test_py36\\lib\\site-packages\\numpy\\core\\include -Ic:\\ta-lib\\c\\include -ID:\\ProgramFiles\\Anaconda3\\envs\\test_py36\\include -ID:\\ProgramFiles\\Anaconda3\\envs\\test_py36\\include \"-IC:\\Program Files\\Microsoft Visual Studio\\2022\\Community\\VC\\Tools\\MSVC\\14.37.32822\\include\" \"-IC:\\Program Files\\Microsoft Visual Studio\\2022\\Community\\VC\\Tools\\MSVC\\14.37.32822\\ATLMFC\\include\" \"-IC:\\Program Files\\Microsoft Visual Studio\\2022\\Community\\VC\\Auxiliary\\VS\\include\" \"-IC:\\Program Files (x86)\\Windows Kits\\10\\include\\10.0.22621.0\\ucrt\" \"-IC:\\Program Files (x86)\\Windows Kits\\10\\\\include\\10.0.22621.0\\\\um\" \"-IC:\\Program Files (x86)\\Windows Kits\\10\\\\include\\10.0.22621.0\\\\shared\" \"-IC:\\Program Files (x86)\\Windows Kits\\10\\\\include\\10.0.22621.0\\\\winrt\" \"-IC:\\Program Files (x86)\\Windows Kits\\10\\\\include\\10.0.22621.0\\\\cppwinrt\" /Tctalib/_ta_lib.c /Fobuild\\temp.win-amd64-3.6\\Release\\talib/_ta_lib.obj\n",
      "  _ta_lib.c\n",
      "  talib/_ta_lib.c(524): fatal error C1083: 无法打开包括文件: “ta_libc.h”: No such file or directory\n",
      "  error: command 'C:\\\\Program Files\\\\Microsoft Visual Studio\\\\2022\\\\Community\\\\VC\\\\Tools\\\\MSVC\\\\14.37.32822\\\\bin\\\\HostX86\\\\x64\\\\cl.exe' failed with exit status 2\n",
      "  ----------------------------------------\n",
      "  ERROR: Failed building wheel for TA-Lib\n",
      "    ERROR: Command errored out with exit status 1:\n",
      "     command: 'D:\\ProgramFiles\\Anaconda3\\envs\\test_py36\\python.exe' -u -c 'import io, os, sys, setuptools, tokenize; sys.argv[0] = '\"'\"'C:\\\\Users\\\\Shower\\\\AppData\\\\Local\\\\Temp\\\\pip-install-z7n3um86\\\\ta-lib_a91f240b521d4277aa0b5503d92a1d4b\\\\setup.py'\"'\"'; __file__='\"'\"'C:\\\\Users\\\\Shower\\\\AppData\\\\Local\\\\Temp\\\\pip-install-z7n3um86\\\\ta-lib_a91f240b521d4277aa0b5503d92a1d4b\\\\setup.py'\"'\"';f = getattr(tokenize, '\"'\"'open'\"'\"', open)(__file__) if os.path.exists(__file__) else io.StringIO('\"'\"'from setuptools import setup; setup()'\"'\"');code = f.read().replace('\"'\"'\\r\\n'\"'\"', '\"'\"'\\n'\"'\"');f.close();exec(compile(code, __file__, '\"'\"'exec'\"'\"'))' install --record 'C:\\Users\\Shower\\AppData\\Local\\Temp\\pip-record-hlaskp7y\\install-record.txt' --single-version-externally-managed --compile --install-headers 'D:\\ProgramFiles\\Anaconda3\\envs\\test_py36\\Include\\TA-Lib'\n",
      "         cwd: C:\\Users\\Shower\\AppData\\Local\\Temp\\pip-install-z7n3um86\\ta-lib_a91f240b521d4277aa0b5503d92a1d4b\\\n",
      "    Complete output (26 lines):\n",
      "    C:\\Users\\Shower\\AppData\\Local\\Temp\\pip-install-z7n3um86\\ta-lib_a91f240b521d4277aa0b5503d92a1d4b\\setup.py:79: UserWarning: Cannot find ta-lib library, installation may fail.\n",
      "      warnings.warn('Cannot find ta-lib library, installation may fail.')\n",
      "    running install\n",
      "    running build\n",
      "    running build_py\n",
      "    creating build\n",
      "    creating build\\lib.win-amd64-3.6\n",
      "    creating build\\lib.win-amd64-3.6\\talib\n",
      "    copying talib\\abstract.py -> build\\lib.win-amd64-3.6\\talib\n",
      "    copying talib\\deprecated.py -> build\\lib.win-amd64-3.6\\talib\n",
      "    copying talib\\stream.py -> build\\lib.win-amd64-3.6\\talib\n",
      "    copying talib\\test_abstract.py -> build\\lib.win-amd64-3.6\\talib\n",
      "    copying talib\\test_data.py -> build\\lib.win-amd64-3.6\\talib\n",
      "    copying talib\\test_func.py -> build\\lib.win-amd64-3.6\\talib\n",
      "    copying talib\\test_pandas.py -> build\\lib.win-amd64-3.6\\talib\n",
      "    copying talib\\test_stream.py -> build\\lib.win-amd64-3.6\\talib\n",
      "    copying talib\\__init__.py -> build\\lib.win-amd64-3.6\\talib\n",
      "    running build_ext\n",
      "    building 'talib._ta_lib' extension\n",
      "    creating build\\temp.win-amd64-3.6\n",
      "    creating build\\temp.win-amd64-3.6\\Release\n",
      "    creating build\\temp.win-amd64-3.6\\Release\\talib\n",
      "    C:\\Program Files\\Microsoft Visual Studio\\2022\\Community\\VC\\Tools\\MSVC\\14.37.32822\\bin\\HostX86\\x64\\cl.exe /c /nologo /Ox /W3 /GL /DNDEBUG /MD -ID:\\ProgramFiles\\Anaconda3\\envs\\test_py36\\lib\\site-packages\\numpy\\core\\include -Ic:\\ta-lib\\c\\include -ID:\\ProgramFiles\\Anaconda3\\envs\\test_py36\\include -ID:\\ProgramFiles\\Anaconda3\\envs\\test_py36\\include \"-IC:\\Program Files\\Microsoft Visual Studio\\2022\\Community\\VC\\Tools\\MSVC\\14.37.32822\\include\" \"-IC:\\Program Files\\Microsoft Visual Studio\\2022\\Community\\VC\\Tools\\MSVC\\14.37.32822\\ATLMFC\\include\" \"-IC:\\Program Files\\Microsoft Visual Studio\\2022\\Community\\VC\\Auxiliary\\VS\\include\" \"-IC:\\Program Files (x86)\\Windows Kits\\10\\include\\10.0.22621.0\\ucrt\" \"-IC:\\Program Files (x86)\\Windows Kits\\10\\\\include\\10.0.22621.0\\\\um\" \"-IC:\\Program Files (x86)\\Windows Kits\\10\\\\include\\10.0.22621.0\\\\shared\" \"-IC:\\Program Files (x86)\\Windows Kits\\10\\\\include\\10.0.22621.0\\\\winrt\" \"-IC:\\Program Files (x86)\\Windows Kits\\10\\\\include\\10.0.22621.0\\\\cppwinrt\" /Tctalib/_ta_lib.c /Fobuild\\temp.win-amd64-3.6\\Release\\talib/_ta_lib.obj\n",
      "    _ta_lib.c\n",
      "    talib/_ta_lib.c(524): fatal error C1083: 无法打开包括文件: “ta_libc.h”: No such file or directory\n",
      "    error: command 'C:\\\\Program Files\\\\Microsoft Visual Studio\\\\2022\\\\Community\\\\VC\\\\Tools\\\\MSVC\\\\14.37.32822\\\\bin\\\\HostX86\\\\x64\\\\cl.exe' failed with exit status 2\n",
      "    ----------------------------------------\n",
      "ERROR: Command errored out with exit status 1: 'D:\\ProgramFiles\\Anaconda3\\envs\\test_py36\\python.exe' -u -c 'import io, os, sys, setuptools, tokenize; sys.argv[0] = '\"'\"'C:\\\\Users\\\\Shower\\\\AppData\\\\Local\\\\Temp\\\\pip-install-z7n3um86\\\\ta-lib_a91f240b521d4277aa0b5503d92a1d4b\\\\setup.py'\"'\"'; __file__='\"'\"'C:\\\\Users\\\\Shower\\\\AppData\\\\Local\\\\Temp\\\\pip-install-z7n3um86\\\\ta-lib_a91f240b521d4277aa0b5503d92a1d4b\\\\setup.py'\"'\"';f = getattr(tokenize, '\"'\"'open'\"'\"', open)(__file__) if os.path.exists(__file__) else io.StringIO('\"'\"'from setuptools import setup; setup()'\"'\"');code = f.read().replace('\"'\"'\\r\\n'\"'\"', '\"'\"'\\n'\"'\"');f.close();exec(compile(code, __file__, '\"'\"'exec'\"'\"'))' install --record 'C:\\Users\\Shower\\AppData\\Local\\Temp\\pip-record-hlaskp7y\\install-record.txt' --single-version-externally-managed --compile --install-headers 'D:\\ProgramFiles\\Anaconda3\\envs\\test_py36\\Include\\TA-Lib' Check the logs for full command output.\n"
     ]
    }
   ],
   "source": [
    "!pip install TA-Lib==0.4.17"
   ]
  },
  {
   "cell_type": "code",
   "execution_count": 7,
   "id": "753f2316",
   "metadata": {
    "scrolled": true
   },
   "outputs": [
    {
     "name": "stdout",
     "output_type": "stream",
     "text": [
      "Collecting alphalens==0.2.1\n",
      "  Downloading alphalens-0.2.1.tar.gz (9.4 MB)\n",
      "Collecting matplotlib>=1.4.0\n",
      "  Downloading matplotlib-3.3.4-cp36-cp36m-win_amd64.whl (8.5 MB)\n",
      "Requirement already satisfied: numpy>=1.9.1 in d:\\programfiles\\anaconda3\\envs\\test_py36\\lib\\site-packages (from alphalens==0.2.1) (1.14.6)\n",
      "Requirement already satisfied: pandas>=0.18.0 in d:\\programfiles\\anaconda3\\envs\\test_py36\\lib\\site-packages (from alphalens==0.2.1) (0.23.4)\n",
      "Collecting scipy>=0.14.0\n",
      "  Downloading scipy-1.5.4-cp36-cp36m-win_amd64.whl (31.2 MB)\n",
      "Collecting seaborn>=0.6.0\n",
      "  Downloading seaborn-0.11.2-py3-none-any.whl (292 kB)\n",
      "Collecting statsmodels>=0.6.1\n",
      "  Downloading statsmodels-0.12.2-cp36-none-win_amd64.whl (9.3 MB)\n",
      "Requirement already satisfied: IPython>=3.2.3 in d:\\programfiles\\anaconda3\\envs\\test_py36\\lib\\site-packages (from alphalens==0.2.1) (7.16.1)\n",
      "Requirement already satisfied: decorator in d:\\programfiles\\anaconda3\\envs\\test_py36\\lib\\site-packages (from IPython>=3.2.3->alphalens==0.2.1) (5.1.1)\n",
      "Requirement already satisfied: colorama in d:\\programfiles\\anaconda3\\envs\\test_py36\\lib\\site-packages (from IPython>=3.2.3->alphalens==0.2.1) (0.4.4)\n",
      "Requirement already satisfied: jedi>=0.10 in d:\\programfiles\\anaconda3\\envs\\test_py36\\lib\\site-packages (from IPython>=3.2.3->alphalens==0.2.1) (0.17.2)\n",
      "Requirement already satisfied: pickleshare in d:\\programfiles\\anaconda3\\envs\\test_py36\\lib\\site-packages (from IPython>=3.2.3->alphalens==0.2.1) (0.7.5)\n",
      "Requirement already satisfied: pygments in d:\\programfiles\\anaconda3\\envs\\test_py36\\lib\\site-packages (from IPython>=3.2.3->alphalens==0.2.1) (2.11.2)\n",
      "Requirement already satisfied: traitlets>=4.2 in d:\\programfiles\\anaconda3\\envs\\test_py36\\lib\\site-packages (from IPython>=3.2.3->alphalens==0.2.1) (4.3.3)\n",
      "Requirement already satisfied: prompt-toolkit!=3.0.0,!=3.0.1,<3.1.0,>=2.0.0 in d:\\programfiles\\anaconda3\\envs\\test_py36\\lib\\site-packages (from IPython>=3.2.3->alphalens==0.2.1) (3.0.20)\n",
      "Requirement already satisfied: backcall in d:\\programfiles\\anaconda3\\envs\\test_py36\\lib\\site-packages (from IPython>=3.2.3->alphalens==0.2.1) (0.2.0)\n",
      "Requirement already satisfied: setuptools>=18.5 in d:\\programfiles\\anaconda3\\envs\\test_py36\\lib\\site-packages (from IPython>=3.2.3->alphalens==0.2.1) (58.0.4)\n",
      "Requirement already satisfied: parso<0.8.0,>=0.7.0 in d:\\programfiles\\anaconda3\\envs\\test_py36\\lib\\site-packages (from jedi>=0.10->IPython>=3.2.3->alphalens==0.2.1) (0.7.0)\n",
      "Collecting cycler>=0.10\n",
      "  Downloading cycler-0.11.0-py3-none-any.whl (6.4 kB)\n",
      "Requirement already satisfied: python-dateutil>=2.1 in d:\\programfiles\\anaconda3\\envs\\test_py36\\lib\\site-packages (from matplotlib>=1.4.0->alphalens==0.2.1) (2.8.2)\n",
      "Requirement already satisfied: pyparsing!=2.0.4,!=2.1.2,!=2.1.6,>=2.0.3 in d:\\programfiles\\anaconda3\\envs\\test_py36\\lib\\site-packages (from matplotlib>=1.4.0->alphalens==0.2.1) (3.0.4)\n",
      "Collecting pillow>=6.2.0\n",
      "  Downloading Pillow-8.4.0-cp36-cp36m-win_amd64.whl (3.2 MB)\n",
      "Collecting numpy>=1.9.1\n",
      "  Downloading numpy-1.19.5-cp36-cp36m-win_amd64.whl (13.2 MB)\n",
      "Collecting kiwisolver>=1.0.1\n",
      "  Downloading kiwisolver-1.3.1-cp36-cp36m-win_amd64.whl (51 kB)\n",
      "Requirement already satisfied: pytz>=2011k in d:\\programfiles\\anaconda3\\envs\\test_py36\\lib\\site-packages (from pandas>=0.18.0->alphalens==0.2.1) (2024.1)\n",
      "Requirement already satisfied: wcwidth in d:\\programfiles\\anaconda3\\envs\\test_py36\\lib\\site-packages (from prompt-toolkit!=3.0.0,!=3.0.1,<3.1.0,>=2.0.0->IPython>=3.2.3->alphalens==0.2.1) (0.2.5)\n",
      "Requirement already satisfied: six>=1.5 in d:\\programfiles\\anaconda3\\envs\\test_py36\\lib\\site-packages (from python-dateutil>=2.1->matplotlib>=1.4.0->alphalens==0.2.1) (1.16.0)\n",
      "Collecting patsy>=0.5\n",
      "  Downloading patsy-0.5.6-py2.py3-none-any.whl (233 kB)\n",
      "Requirement already satisfied: ipython-genutils in d:\\programfiles\\anaconda3\\envs\\test_py36\\lib\\site-packages (from traitlets>=4.2->IPython>=3.2.3->alphalens==0.2.1) (0.2.0)\n",
      "Building wheels for collected packages: alphalens\n",
      "  Building wheel for alphalens (setup.py): started\n",
      "  Building wheel for alphalens (setup.py): finished with status 'done'\n",
      "  Created wheel for alphalens: filename=alphalens-0.2.1-py3-none-any.whl size=9369470 sha256=f6d9602f77fda66d0cabf273314a4eb0528cea901b89190e8326d79dbf54d586\n",
      "  Stored in directory: c:\\users\\shower\\appdata\\local\\pip\\cache\\wheels\\7f\\1f\\f3\\6fa2062e8afba7e5dcc5b902e0a432f9a0d6b950974790859c\n",
      "Successfully built alphalens\n",
      "Installing collected packages: pillow, numpy, kiwisolver, cycler, scipy, patsy, matplotlib, statsmodels, seaborn, alphalens\n",
      "  Attempting uninstall: numpy\n",
      "    Found existing installation: numpy 1.14.6\n",
      "    Uninstalling numpy-1.14.6:\n",
      "      Successfully uninstalled numpy-1.14.6\n",
      "Successfully installed alphalens-0.2.1 cycler-0.11.0 kiwisolver-1.3.1 matplotlib-3.3.4 numpy-1.19.5 patsy-0.5.6 pillow-8.4.0 scipy-1.5.4 seaborn-0.11.2 statsmodels-0.12.2\n"
     ]
    }
   ],
   "source": [
    "!pip install alphalens==0.2.1"
   ]
  },
  {
   "cell_type": "code",
   "execution_count": 8,
   "id": "fe46d5fd",
   "metadata": {
    "scrolled": true
   },
   "outputs": [
    {
     "name": "stdout",
     "output_type": "stream",
     "text": [
      "Collecting empyrical==0.5.0\n",
      "  Downloading empyrical-0.5.0.tar.gz (49 kB)\n",
      "Requirement already satisfied: numpy>=1.9.2 in d:\\programfiles\\anaconda3\\envs\\test_py36\\lib\\site-packages (from empyrical==0.5.0) (1.19.5)\n",
      "Requirement already satisfied: pandas>=0.16.1 in d:\\programfiles\\anaconda3\\envs\\test_py36\\lib\\site-packages (from empyrical==0.5.0) (0.23.4)\n",
      "Requirement already satisfied: scipy>=0.15.1 in d:\\programfiles\\anaconda3\\envs\\test_py36\\lib\\site-packages (from empyrical==0.5.0) (1.5.4)\n",
      "Collecting pandas-datareader>=0.2\n",
      "  Using cached pandas_datareader-0.10.0-py3-none-any.whl (109 kB)\n",
      "Collecting bottleneck>=1.0.0\n",
      "  Downloading Bottleneck-1.3.8.tar.gz (103 kB)\n",
      "  Installing build dependencies: started\n",
      "  Installing build dependencies: finished with status 'done'\n",
      "  Getting requirements to build wheel: started\n",
      "  Getting requirements to build wheel: finished with status 'done'\n",
      "    Preparing wheel metadata: started\n",
      "    Preparing wheel metadata: finished with status 'done'\n",
      "Requirement already satisfied: pytz>=2011k in d:\\programfiles\\anaconda3\\envs\\test_py36\\lib\\site-packages (from pandas>=0.16.1->empyrical==0.5.0) (2024.1)\n",
      "Requirement already satisfied: python-dateutil>=2.5.0 in d:\\programfiles\\anaconda3\\envs\\test_py36\\lib\\site-packages (from pandas>=0.16.1->empyrical==0.5.0) (2.8.2)\n",
      "Collecting lxml\n",
      "  Downloading lxml-5.2.2-cp36-cp36m-win_amd64.whl (3.9 MB)\n",
      "Collecting requests>=2.19.0\n",
      "  Downloading requests-2.27.1-py2.py3-none-any.whl (63 kB)\n",
      "Requirement already satisfied: six>=1.5 in d:\\programfiles\\anaconda3\\envs\\test_py36\\lib\\site-packages (from python-dateutil>=2.5.0->pandas>=0.16.1->empyrical==0.5.0) (1.16.0)\n",
      "Collecting urllib3<1.27,>=1.21.1\n",
      "  Using cached urllib3-1.26.18-py2.py3-none-any.whl (143 kB)\n",
      "Requirement already satisfied: certifi>=2017.4.17 in d:\\programfiles\\anaconda3\\envs\\test_py36\\lib\\site-packages (from requests>=2.19.0->pandas-datareader>=0.2->empyrical==0.5.0) (2021.5.30)\n",
      "Collecting charset-normalizer~=2.0.0\n",
      "  Downloading charset_normalizer-2.0.12-py3-none-any.whl (39 kB)\n",
      "Collecting idna<4,>=2.5\n",
      "  Downloading idna-3.7-py3-none-any.whl (66 kB)\n",
      "Building wheels for collected packages: empyrical, bottleneck\n",
      "  Building wheel for empyrical (setup.py): started\n",
      "  Building wheel for empyrical (setup.py): finished with status 'done'\n",
      "  Created wheel for empyrical: filename=empyrical-0.5.0-py3-none-any.whl size=36847 sha256=7967fb5173e603c304131019aab77c05a71c7fb43715ee82064f0b48a010cfae\n",
      "  Stored in directory: c:\\users\\shower\\appdata\\local\\pip\\cache\\wheels\\83\\ff\\3c\\cb9db728eb5f335406931f5f94baebb3400c483ec94b00ce68\n",
      "  Building wheel for bottleneck (PEP 517): started\n",
      "  Building wheel for bottleneck (PEP 517): finished with status 'done'\n",
      "  Created wheel for bottleneck: filename=Bottleneck-1.3.8-cp36-cp36m-win_amd64.whl size=109496 sha256=25bf6032e724b2e0d18251f2c85d41ddfa271d7714f8af53926506d9e40ff8db\n",
      "  Stored in directory: c:\\users\\shower\\appdata\\local\\pip\\cache\\wheels\\95\\f3\\1e\\d2610e4faccc1bf2c615dd2d5afbb0f15b39cdf93e0c7a6abd\n",
      "Successfully built empyrical bottleneck\n",
      "Installing collected packages: urllib3, idna, charset-normalizer, requests, lxml, pandas-datareader, bottleneck, empyrical\n",
      "Successfully installed bottleneck-1.3.8 charset-normalizer-2.0.12 empyrical-0.5.0 idna-3.7 lxml-5.2.2 pandas-datareader-0.10.0 requests-2.27.1 urllib3-1.26.18\n"
     ]
    }
   ],
   "source": [
    "!pip install empyrical==0.5.0"
   ]
  },
  {
   "cell_type": "code",
   "execution_count": null,
   "id": "485686cf",
   "metadata": {},
   "outputs": [],
   "source": []
  }
 ],
 "metadata": {
  "kernelspec": {
   "display_name": "Python 3",
   "language": "python",
   "name": "python3"
  },
  "language_info": {
   "codemirror_mode": {
    "name": "ipython",
    "version": 3
   },
   "file_extension": ".py",
   "mimetype": "text/x-python",
   "name": "python",
   "nbconvert_exporter": "python",
   "pygments_lexer": "ipython3",
   "version": "3.6.13"
  }
 },
 "nbformat": 4,
 "nbformat_minor": 5
}
