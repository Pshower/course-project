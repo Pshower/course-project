{
 "cells": [
  {
   "cell_type": "code",
   "execution_count": 1,
   "id": "58dea744-1015-4221-8552-4746706571a6",
   "metadata": {},
   "outputs": [],
   "source": [
    "import numpy as np\n",
    "import pandas as pd"
   ]
  },
  {
   "cell_type": "code",
   "execution_count": 2,
   "id": "bffb8dbc-665d-40d7-b7ad-450783acce7b",
   "metadata": {},
   "outputs": [],
   "source": [
    "share_list=['002304','600111','000858','601318','000568','300033','601601','600436','601628']"
   ]
  },
  {
   "cell_type": "code",
   "execution_count": 3,
   "id": "273649bc-b59e-4c24-a7c5-8de9cfce8db1",
   "metadata": {},
   "outputs": [],
   "source": [
    "code=share_list[0]"
   ]
  },
  {
   "cell_type": "code",
   "execution_count": 4,
   "id": "383c5ade-a7be-459a-ae15-e2fa3fbc6098",
   "metadata": {},
   "outputs": [],
   "source": [
    "# 读取all-4\n",
    "share=pd.read_csv('03_output/csv/pre all-4 %s.csv'%(code),index_col=0)\n",
    "share['target2'] = share['close'].shift(-1)/share['close']  # 标签\n",
    "pre_df= pd.DataFrame(share['target2'])\n",
    "pre_df.columns=[code]\n",
    "\n",
    "for code in share_list[1:]:\n",
    "    share=pd.read_csv('03_output/csv/pre all-4 %s.csv'%(code),index_col=0)\n",
    "    share['target2'] = share['close'].shift(-1)/share['close']  # 标签\n",
    "    pre_df2= pd.DataFrame(share['target2'])\n",
    "    pre_df2.columns=[code]\n",
    "    pre_df=pd.concat([pre_df,pre_df2],axis=1)\n",
    "\n",
    "pre_df.sort_values(by='date',inplace=True,kind='stable')\n",
    "pre_df.fillna(value=1,inplace=True)\n",
    "\n",
    "# 保存预测第二天收益\n",
    "pre_df.to_csv('03_output/predict/pre all-4.csv')\n",
    "\n",
    "indexlist = pre_df.index.tolist()\n",
    "dict_position = {}\n",
    "\n",
    "for x in indexlist:\n",
    "    # 排序选股\n",
    "    temp = pre_df.loc[x].sort_values(ascending=False).head(3).index.tolist()\n",
    "    \n",
    "    dict_position[x] = temp \n",
    "\n",
    "position=(pd.DataFrame(dict_position)).T\n",
    "position.to_csv('03_output/predict/position all-4.csv')"
   ]
  },
  {
   "cell_type": "code",
   "execution_count": 6,
   "id": "68dcb49d-5f0d-4a2e-adb1-21c893a53872",
   "metadata": {},
   "outputs": [],
   "source": [
    "code=share_list[0]"
   ]
  },
  {
   "cell_type": "code",
   "execution_count": 7,
   "id": "6f87001a-ba4a-40d3-851c-66d39edafa17",
   "metadata": {},
   "outputs": [],
   "source": [
    "# 读取4-4\n",
    "share=pd.read_csv('03_output/csv/pre 4-4 %s.csv'%(code),index_col=0)\n",
    "share['target2'] = share['close'].shift(-1)/share['close']  # 标签\n",
    "pre_df= pd.DataFrame(share['target2'])\n",
    "pre_df.columns=[code]\n",
    "\n",
    "for code in share_list[1:]:\n",
    "    share=pd.read_csv('03_output/csv/pre 4-4 %s.csv'%(code),index_col=0)\n",
    "    share['target2'] = share['close'].shift(-1)/share['close']  # 标签\n",
    "    pre_df2= pd.DataFrame(share['target2'])\n",
    "    pre_df2.columns=[code]\n",
    "    pre_df=pd.concat([pre_df,pre_df2],axis=1)\n",
    "\n",
    "pre_df.sort_values(by='date',inplace=True,kind='stable')\n",
    "pre_df.fillna(value=1,inplace=True)\n",
    "\n",
    "# 保存预测第二天收益\n",
    "pre_df.to_csv('03_output/predict/pre 4-4.csv')\n",
    "\n",
    "indexlist = pre_df.index.tolist()\n",
    "dict_position = {}\n",
    "\n",
    "for x in indexlist:\n",
    "    # 排序选股\n",
    "    temp = pre_df.loc[x].sort_values(ascending=False).head(3).index.tolist()\n",
    "    \n",
    "    dict_position[x] = temp \n",
    "\n",
    "position=(pd.DataFrame(dict_position)).T\n",
    "position.to_csv('03_output/predict/position 4-4.csv')"
   ]
  },
  {
   "cell_type": "code",
   "execution_count": null,
   "id": "8ad4fa02-bf8c-408f-b051-92afef62a8f3",
   "metadata": {},
   "outputs": [],
   "source": []
  },
  {
   "cell_type": "code",
   "execution_count": null,
   "id": "9272fa7f-20c9-40a5-bbf5-bca78c7a6e2d",
   "metadata": {},
   "outputs": [],
   "source": []
  },
  {
   "cell_type": "code",
   "execution_count": null,
   "id": "17f19104-c2ee-4900-b587-52c47370b8c1",
   "metadata": {},
   "outputs": [],
   "source": []
  },
  {
   "cell_type": "code",
   "execution_count": null,
   "id": "f45ea224-8907-4b53-81ff-6fc935cf6aad",
   "metadata": {},
   "outputs": [],
   "source": []
  },
  {
   "cell_type": "code",
   "execution_count": null,
   "id": "83458a01-1aa9-4670-9b23-80d9a5c4318a",
   "metadata": {},
   "outputs": [],
   "source": []
  },
  {
   "cell_type": "code",
   "execution_count": null,
   "id": "9929f238-36fc-46b0-92c7-b14fc5bf1f83",
   "metadata": {},
   "outputs": [],
   "source": []
  }
 ],
 "metadata": {
  "kernelspec": {
   "display_name": "Python 3 (ipykernel)",
   "language": "python",
   "name": "python3"
  },
  "language_info": {
   "codemirror_mode": {
    "name": "ipython",
    "version": 3
   },
   "file_extension": ".py",
   "mimetype": "text/x-python",
   "name": "python",
   "nbconvert_exporter": "python",
   "pygments_lexer": "ipython3",
   "version": "3.11.5"
  }
 },
 "nbformat": 4,
 "nbformat_minor": 5
}
